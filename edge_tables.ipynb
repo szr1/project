{
 "cells": [
  {
   "cell_type": "code",
   "execution_count": 1,
   "metadata": {},
   "outputs": [],
   "source": [
    "import networkx as nx\n",
    "import os\n",
    "\n",
    "# Import given number of files\n",
    "# NUMBER_OF_GRAPHS_WANTED=-1, to import all files\n",
    "\n",
    "def import_some(NUMBER_OF_GRAPHS_WANTED,path):\n",
    "    # Change the directory\n",
    "    os.chdir(path)\n",
    "  \n",
    "    # Read text File\n",
    "\n",
    "    l = []\n",
    "  \n",
    "    def read_file(file_path):\n",
    "        l.append(nx.read_graphml(file_path))\n",
    "  \n",
    "  \n",
    "    # iterate through all file\n",
    "    i = -1\n",
    "    for file in os.listdir():\n",
    "        i+=1\n",
    "        if i == NUMBER_OF_GRAPHS_WANTED:\n",
    "            break\n",
    "        # Check whether file is in text format or not\n",
    "        if file.endswith(\".graphml\"):\n",
    "            file_path = f\"{path}\\{file}\"\n",
    " \n",
    "            # call read text file function\n",
    "            read_file(file_path)\n",
    "    return l\n"
   ]
  },
  {
   "cell_type": "code",
   "execution_count": 2,
   "metadata": {},
   "outputs": [],
   "source": [
    "def node_data_table(graph):\n",
    "    df = pd.DataFrame.from_dict(dict(graph.nodes(data=True)), orient='index')\n",
    "    df.drop(columns=['dn_position_x', 'dn_position_y', 'dn_position_z'], inplace=True)\n",
    "    return df"
   ]
  },
  {
   "cell_type": "code",
   "execution_count": 3,
   "metadata": {},
   "outputs": [],
   "source": [
    "def node1_name(node_df, row):\n",
    "    print(row)\n",
    "    print(\"....\")\n",
    "    node_id = row[\"node1\"]\n",
    "    name = node_df[node_df[\"dn_correspondence_id\"] == node_id][dn_name]\n",
    "    print(name)\n",
    "    print(type(name))\n",
    "    return name"
   ]
  },
  {
   "cell_type": "code",
   "execution_count": 4,
   "metadata": {},
   "outputs": [],
   "source": [
    "import pandas as pd\n",
    "\n",
    "def edge_dataframe(number, path):\n",
    "    \n",
    "    graph_list = import_some(number, path)\n",
    "    edges = []\n",
    "    fiber_length = []\n",
    "    FA = []\n",
    "    number_of_fibers = []\n",
    "    node1 = []\n",
    "    node2 = []\n",
    "    \n",
    "    for graph in graph_list:\n",
    "        for n1, n2, data in graph.edges.data():\n",
    "            edges.append((n1,n2))\n",
    "            node1.append(int(n1))\n",
    "            node2.append(int(n2))\n",
    "            fiber_length.append(data['fiber_length_mean'])\n",
    "            FA.append(data['FA_mean'])\n",
    "            number_of_fibers.append(data['number_of_fibers'])\n",
    "            \n",
    "    \n",
    "            \n",
    "    data = {\"edges\":edges, \"node1\":node1, \"node2\":node2, \"fiber_length\": fiber_length, \"FA\": FA, \"number_of_fibers\":number_of_fibers}\n",
    "    df = pd.DataFrame(data=data)\n",
    "    \n",
    "    edge_confidence_series = df[\"edges\"].value_counts()\n",
    "    edge_confidence_series = edge_confidence_series.to_frame(name=\"edge confidence\")\n",
    "    \n",
    "    df_mean = df.groupby(\"edges\").mean()\n",
    "    df_median = df.groupby(\"edges\").median()\n",
    "    \n",
    "    inner_joined_total = df_mean.join(\n",
    "    df_median,\n",
    "    lsuffix=\"_mean\",\n",
    "    rsuffix=\"_median\")\n",
    "    \n",
    "    inner_joined_total = inner_joined_total.merge(edge_confidence_series, right_index=True, left_index=True)\n",
    "    \n",
    "    os.chdir('..')\n",
    "    os.mkdir(\"tables_new\")\n",
    "    \n",
    "    inner_joined_total.rename(columns = {\"node1_mean\":\"node1\", \"node2_mean\":\"node2\"}, inplace = True)\n",
    "    \n",
    "    inner_joined_total.drop(columns=['node1_median', 'node2_median'], inplace=True)\n",
    "    \n",
    "    \n",
    "    \n",
    "    \n",
    "    node_df = node_data_table(graph_list[0])\n",
    "    node_dict = {}\n",
    "    \n",
    "    for index, row in node_df.iterrows():\n",
    "        node_dict[str(row[\"dn_correspondence_id\"])] = row[\"dn_name\"]\n",
    "\n",
    "    \n",
    "    \n",
    "    \n",
    "    \n",
    "    inner_joined_total[\"name_node1\"] = inner_joined_total.apply(lambda x:node_dict[str(int(x[\"node1\"]))],axis=1)\n",
    "    inner_joined_total[\"name_node2\"] = inner_joined_total.apply(lambda x:node_dict[str(int(x[\"node2\"]))],axis=1)\n",
    "    \n",
    "    \n",
    "    \n",
    "    inner_joined_total.to_csv(\"tables_new\\\\t0.csv\", index=True, sep=';',float_format='%.3f')\n",
    "    \n",
    "    \n",
    "#     node_df.to_csv(\"node_data_table.csv\", index=True, sep=';',float_format='%.3f')\n",
    "    \n",
    "    \n",
    "    \n",
    "    return inner_joined_total"
   ]
  },
  {
   "cell_type": "code",
   "execution_count": 7,
   "metadata": {},
   "outputs": [],
   "source": [
    "def table_100(main_path, graph_path):\n",
    "    df = edge_dataframe(-1, main_path+graph_path)\n",
    "    path_table = main_path + \"\\\\tables_new\\\\\"\n",
    "    path_freq = main_path+\"\\\\frequency_graphs\\\\\"\n",
    "    for i in range(1,101):\n",
    "        file_path = path_freq + \"g{}.graphml\".format(i)\n",
    "        g  = nx.read_graphml(file_path)\n",
    "        df_i = df[df.index.isin(g.edges())]\n",
    "        df_i.to_csv(path_table+\"t{}.csv\".format(i), index=True, sep=';',float_format='%.3f')"
   ]
  },
  {
   "cell_type": "code",
   "execution_count": 9,
   "metadata": {
    "scrolled": true
   },
   "outputs": [],
   "source": [
    "main_path = \"...\"\n",
    "graph_path = \"...\"\n",
    "table_100(main_path, graph_path)"
   ]
  },
  {
   "cell_type": "code",
   "execution_count": null,
   "metadata": {},
   "outputs": [],
   "source": []
  }
 ],
 "metadata": {
  "kernelspec": {
   "display_name": "Python 3",
   "language": "python",
   "name": "python3"
  },
  "language_info": {
   "codemirror_mode": {
    "name": "ipython",
    "version": 3
   },
   "file_extension": ".py",
   "mimetype": "text/x-python",
   "name": "python",
   "nbconvert_exporter": "python",
   "pygments_lexer": "ipython3",
   "version": "3.8.5"
  }
 },
 "nbformat": 4,
 "nbformat_minor": 4
}
