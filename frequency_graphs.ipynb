{
 "cells": [
  {
   "cell_type": "code",
   "execution_count": 1,
   "metadata": {},
   "outputs": [],
   "source": [
    "import networkx as nx\n",
    "import os\n",
    "\n",
    "# Import given number of files\n",
    "# NUMBER_OF_GRAPHS_WANTED=-1, to import all files\n",
    "\n",
    "def import_some(NUMBER_OF_GRAPHS_WANTED,path):\n",
    "    # Change the directory\n",
    "    os.chdir(path)\n",
    "  \n",
    "    # Read text File\n",
    "\n",
    "    l = []\n",
    "  \n",
    "    def read_file(file_path):\n",
    "        l.append(nx.read_graphml(file_path))\n",
    "  \n",
    "  \n",
    "    # iterate through all file\n",
    "    i = -1\n",
    "    for file in os.listdir():\n",
    "        i+=1\n",
    "        if i == NUMBER_OF_GRAPHS_WANTED:\n",
    "            break\n",
    "        # Check whether file is in text format or not\n",
    "        if file.endswith(\".graphml\"):\n",
    "            file_path = f\"{path}\\{file}\"\n",
    " \n",
    "            # call read text file function\n",
    "            read_file(file_path)\n",
    "    return l"
   ]
  },
  {
   "cell_type": "code",
   "execution_count": 2,
   "metadata": {},
   "outputs": [],
   "source": [
    "def edge_list(g):\n",
    "    return list(g.edges)"
   ]
  },
  {
   "cell_type": "code",
   "execution_count": 3,
   "metadata": {},
   "outputs": [],
   "source": [
    "# Creating the frequency dictionary, l = list of graphs\n",
    "def frequency_dictionary(l):\n",
    "    d = {}\n",
    "\n",
    "    for g in l:\n",
    "        for edge in edge_list(g):\n",
    "            if edge in d.keys():\n",
    "                d[edge] += 1\n",
    "            else:\n",
    "                d[edge] = 1\n",
    "                \n",
    "    return d"
   ]
  },
  {
   "cell_type": "code",
   "execution_count": 4,
   "metadata": {},
   "outputs": [],
   "source": [
    "# d = frequency dictionary\n",
    "# n = number of graphs\n",
    "# the result is a dictionary, in which pre_percentage_dictionary[i] = list of edges present in i% of graphs, but not in i+1%\n",
    "import math\n",
    "def pre_percentage_dictionary(d,n):\n",
    "    p_p_dict = {i:[] for i in range(101)}\n",
    "    for key, value in d.items():\n",
    "        p_p_dict[math.floor(100*value/n)].append(key)\n",
    "        \n",
    "    return p_p_dict"
   ]
  },
  {
   "cell_type": "code",
   "execution_count": 5,
   "metadata": {},
   "outputs": [],
   "source": [
    "# d = frequency dictionary\n",
    "# n = number of graphs\n",
    "def percentage_dictionary(d,n):\n",
    "    percentage = {}\n",
    "    p_p_dict = pre_percentage_dictionary(d,n)\n",
    "    \n",
    "    percentage[100] = p_p_dict[100]\n",
    "    for i in range(99,-1,-1):\n",
    "        if percentage[i+1]==[]:\n",
    "            percentage[i] = p_p_dict[i].copy()\n",
    "        else:\n",
    "            percentage[i] = percentage[i+1].copy()\n",
    "            percentage[i].extend(p_p_dict[i])\n",
    "\n",
    "    return percentage"
   ]
  },
  {
   "cell_type": "code",
   "execution_count": 8,
   "metadata": {},
   "outputs": [],
   "source": [
    "def frequency_graphs(path):\n",
    "    graph_list = import_some(-1, path)\n",
    "    \n",
    "    NUMBER_OF_GRAPHS = len(graph_list)\n",
    "    \n",
    "    freq_dict = frequency_dictionary(graph_list)\n",
    "    \n",
    "    perc_dict = percentage_dictionary(freq_dict, NUMBER_OF_GRAPHS)\n",
    "    \n",
    "    os.chdir('..')\n",
    "    os.mkdir('frequency_graphs_new')\n",
    "    G0 = nx.Graph()\n",
    "    G0.add_nodes_from(graph_list[0].nodes(data=True))\n",
    "#     print(G0.nodes(data=True))\n",
    "    for node in G0.nodes:\n",
    "        del G0.nodes[node]['dn_position_x']\n",
    "        del G0.nodes[node]['dn_position_y']\n",
    "        del G0.nodes[node]['dn_position_z']\n",
    "        if int(G0.nodes[node]['dn_correspondence_id']) == int(node):\n",
    "            del G0.nodes[node]['dn_correspondence_id']\n",
    "        else:\n",
    "            print(\"error\")\n",
    "    for i in range(101):\n",
    "        G = G0.copy()\n",
    "        G.add_edges_from(perc_dict[i])\n",
    "        nx.write_graphml(G, \"frequency_graphs_new\\\\g{}.graphml\".format(i))\n",
    "    \n",
    "    return perc_dict"
   ]
  },
  {
   "cell_type": "code",
   "execution_count": 9,
   "metadata": {
    "scrolled": true
   },
   "outputs": [],
   "source": [
    "path = \"...\"\n",
    "\n",
    "pd = frequency_graphs(path)"
   ]
  }
 ],
 "metadata": {
  "kernelspec": {
   "display_name": "Python 3",
   "language": "python",
   "name": "python3"
  },
  "language_info": {
   "codemirror_mode": {
    "name": "ipython",
    "version": 3
   },
   "file_extension": ".py",
   "mimetype": "text/x-python",
   "name": "python",
   "nbconvert_exporter": "python",
   "pygments_lexer": "ipython3",
   "version": "3.8.5"
  }
 },
 "nbformat": 4,
 "nbformat_minor": 5
}
